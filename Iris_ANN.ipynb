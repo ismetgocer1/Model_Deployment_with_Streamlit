{
 "cells": [
  {
   "cell_type": "markdown",
   "id": "c509cbc2-3c85-4bc6-9a2e-78aa1e037586",
   "metadata": {},
   "source": [
    "<p style=\"background-color: #8a4baf; color: white; font-size: 20px; padding: 20px; border-radius: 10px; text-align: center; box-shadow: 0px 4px 6px rgba(0, 0, 0, 0.1);\">IRIS Flower Classification using TensorFlow</p>"
   ]
  },
  {
   "cell_type": "markdown",
   "id": "eb5c9a80-3bc8-4ad8-96c8-39f639912456",
   "metadata": {},
   "source": [
    "\n",
    "![image.png](https://miro.medium.com/v2/resize:fit:1200/1*S2GII1ul0JjbZ0YaFvDByw.jpeg)\n",
    "\n",
    "<p style=\"color:  #8a4baf; font-size: 20px; padding: 20px; border-radius: 10px; box-shadow: 0px 4px 6px rgba(0, 0, 0, 0.1);\">Iris veri kümesi, makine öğrenimi ve istatistik alanında iyi bilinen ve sıklıkla kullanılan bir ölçüttür. Üç farklı iris çiçeği türünün çeşitli özelliklerinin ölçümlerinin bir koleksiyonunu içeren klasik bir veri kümesidir: Setosa, Versicolor ve Virginica. \n",
    "Bu veri kümesi, veri analizi, sınıflandırma ve örüntü tanıma tekniklerini keşfetmek ve uygulamak için temel bir örnek olarak hizmet vermektedir. Basitliği ve anlaşılırlığı ile Iris veri seti, hem yeni başlayanlar hem de deneyimli uygulayıcılar için bir mihenk taşı olmaya devam etmekte ve veri keşfi ve algoritma değerlendirmesi hakkında içgörüler sağlamaktadır.</p>"
   ]
  },
  {
   "cell_type": "code",
   "execution_count": null,
   "id": "fd4aad4b-4359-446f-a006-6abf5a1eb149",
   "metadata": {},
   "outputs": [],
   "source": [
    "import pandas as pd\n",
    "import numpy as np\n",
    "import seaborn as sns\n",
    "from matplotlib import pyplot as plt\n",
    "import pickle\n",
    "\n",
    "from sklearn.model_selection import train_test_split\n",
    "from sklearn.preprocessing import MinMaxScaler\n",
    "\n",
    "import tensorflow as tf\n",
    "from keras import models\n",
    "from tensorflow.keras.layers import Dense\n",
    "from tensorflow.keras.models import Sequential \n",
    "from tensorflow.keras.optimizers import Adam \n",
    "\n",
    "from sklearn.metrics import accuracy_score, confusion_matrix\n",
    "from sklearn.metrics import precision_score, recall_score, accuracy_score, classification_report"
   ]
  },
  {
   "cell_type": "code",
   "execution_count": null,
   "id": "b0f7b51b-8030-4f74-9b08-e9df8f17bed2",
   "metadata": {},
   "outputs": [],
   "source": [
    "df = pd.read_csv(\"iris.csv\")"
   ]
  },
  {
   "cell_type": "code",
   "execution_count": null,
   "id": "164d819d-a162-4829-ba78-4d4d0ea0c3cf",
   "metadata": {},
   "outputs": [],
   "source": [
    "df.head()"
   ]
  },
  {
   "cell_type": "code",
   "execution_count": null,
   "id": "2267984e-d5a9-4c5a-bb07-5cd1a3878d93",
   "metadata": {},
   "outputs": [],
   "source": [
    "df.info()"
   ]
  },
  {
   "cell_type": "code",
   "execution_count": null,
   "id": "7819110c-6789-4ed2-abf8-6bfd3bda9ef5",
   "metadata": {},
   "outputs": [],
   "source": [
    "df.isnull().sum()"
   ]
  },
  {
   "cell_type": "code",
   "execution_count": null,
   "id": "0e6f876f-ba2e-4140-96df-841c4b5bdfa7",
   "metadata": {},
   "outputs": [],
   "source": [
    "# Feature'lar üzerinden istatistiksel bilgilere bakalım\n",
    "\n",
    "df.describe()       "
   ]
  },
  {
   "cell_type": "code",
   "execution_count": null,
   "id": "3854fa2e-135a-4ba0-bcc6-f7ca8a0f57ec",
   "metadata": {},
   "outputs": [],
   "source": [
    "# Hedef değişkenimiz üzerinden istatistiksel bilgilere bakalım\n",
    "\n",
    "df.groupby(\"species\").agg([\"min\",\"max\",\"std\",\"mean\"]) "
   ]
  },
  {
   "cell_type": "code",
   "execution_count": null,
   "id": "bdd0b591-03ef-4bf0-820e-56158141e378",
   "metadata": {},
   "outputs": [],
   "source": [
    "# Hedef değişkenimizin dağılımı\n",
    "\n",
    "plt.figure(figsize=(8, 6))\n",
    "ax=sns.countplot(data=df, x='species')\n",
    "ax.bar_label(ax.containers[0])\n",
    "plt.title('Species Distribution in Iris Dataset')\n",
    "plt.xlabel('Species')\n",
    "plt.ylabel('Count')\n",
    "plt.show()"
   ]
  },
  {
   "cell_type": "markdown",
   "id": "1796a5aa-044f-459d-afb2-682ba8ae0450",
   "metadata": {},
   "source": [
    "![](https://data-flair.training/blogs/wp-content/uploads/sites/2/2021/10/iris-flower.webp)"
   ]
  },
  {
   "cell_type": "code",
   "execution_count": null,
   "id": "62d47eda-b408-4992-a680-9629354a53b8",
   "metadata": {},
   "outputs": [],
   "source": [
    "# Aykırı değerlerin durumu\n",
    "\n",
    "sns.set(style = \"ticks\")\n",
    "plt.figure(figsize = (12,10))\n",
    "\n",
    "plt.subplot(2,2,1)                                                 \n",
    "sns.boxplot(x = \"species\", y = \"sepal_length\", data = df)\n",
    "plt.subplot(2,2,2)\n",
    "sns.boxplot(x = \"species\", y = \"sepal_width\", data = df)\n",
    "plt.subplot(2,2,3)\n",
    "sns.boxplot(x = \"species\", y = \"petal_length\", data = df)\n",
    "plt.subplot(2,2,4)\n",
    "sns.boxplot(x = \"species\", y = \"petal_width\", data = df)\n",
    "plt.show()"
   ]
  },
  {
   "cell_type": "code",
   "execution_count": null,
   "id": "47785e48-b816-4478-ab13-466da1450575",
   "metadata": {},
   "outputs": [],
   "source": [
    "sns.set(style=\"whitegrid\")\n",
    "\n",
    "# Plot the distributions of features for each species\n",
    "sns.pairplot(df, hue='species', markers=[\"o\", \"s\", \"D\"], diag_kind=\"kde\")\n",
    "plt.show()"
   ]
  },
  {
   "cell_type": "code",
   "execution_count": null,
   "id": "4038a145-5f88-4284-a683-12fff858e497",
   "metadata": {},
   "outputs": [],
   "source": [
    "plt.figure(figsize = (10,11))\n",
    "sns.heatmap(df.corr(), annot = True, cmap = \"coolwarm\")\n",
    "plt.show()"
   ]
  },
  {
   "cell_type": "code",
   "execution_count": null,
   "id": "32a0c86c-c744-4db6-a37e-e3716f907f31",
   "metadata": {},
   "outputs": [],
   "source": [
    "df.info()"
   ]
  },
  {
   "cell_type": "code",
   "execution_count": null,
   "id": "b187400d-cace-44fd-83ee-7dbe24dafba4",
   "metadata": {},
   "outputs": [],
   "source": [
    "plt.figure(figsize=(18, 6))\n",
    "\n",
    "# Petal width\n",
    "plt.subplot(1, 4, 1)\n",
    "sns.histplot(data=df, x=\"petal_width\", hue=\"species\", stat=\"density\", kde=True)\n",
    "plt.title(\"Petal Width\")\n",
    "\n",
    "# Petal length\n",
    "plt.subplot(1, 4, 2)\n",
    "sns.histplot(data=df, x=\"petal_length\", hue=\"species\", stat=\"density\", kde=True)\n",
    "plt.title(\"Petal Length\")\n",
    "\n",
    "# Sepal length\n",
    "plt.subplot(1, 4, 3)\n",
    "sns.histplot(data=df, x=\"sepal_length\", hue=\"species\", stat=\"density\", kde=True)\n",
    "plt.title(\"Sepal Length\")\n",
    "\n",
    "# Sepal width\n",
    "plt.subplot(1, 4, 4)\n",
    "sns.histplot(data=df, x=\"sepal_width\", hue=\"species\", stat=\"density\", kde=True)\n",
    "plt.title(\"Sepal Width\")\n",
    "\n",
    "plt.tight_layout()\n",
    "plt.show()"
   ]
  },
  {
   "cell_type": "markdown",
   "id": "00740e9a-8965-4ce5-833c-3f509cb58320",
   "metadata": {
    "tags": []
   },
   "source": [
    "### Sonuçlar\n",
    "\n",
    "* Dört sayısal veri barındıran sütunumuz varken, analiz etmeyi hedeflediğimiz veri olan sadece bir kategorik sütunumuz vardır (çiçek türleri).\n",
    "\n",
    "* Veri kümesi dengelidir, yani her üç tür için eşit kayıtlar mevcuttur.\n",
    "\n",
    "* Verimiz de hiç eksik değer yok.\n",
    "\n",
    "* Boxplot grafiği üzeinden gördüğümüz kadarıyla ciddi bir Outlier sorunumuz yok.\n",
    "\n",
    "* Taç yaprak genişliği ile taç yaprak uzunluğu arasında güçlü bir korelasyon mevcuttur.\n",
    "\n",
    "* Setosa türleri, küçük boyutlu olmasından dolayı dolayı en kolay ayırt edilebilen türdür.\n",
    "\n",
    "* Versicolor ve Virginica türleri genellikle karıştırılır ve bazen ayrılması zordur. Ancak genellikle Versicolor türünün boyutları daha ortalama değerdedir. Buna karşın virginica türünün boyutları daha büyüktür."
   ]
  },
  {
   "cell_type": "code",
   "execution_count": null,
   "id": "889f96e3-b9db-438f-a073-19271b98da0c",
   "metadata": {},
   "outputs": [],
   "source": [
    "# target değişkenimizi numeric forma dönüştürüyoruz\n",
    "\n",
    "from sklearn.preprocessing import LabelEncoder\n",
    "le = LabelEncoder()"
   ]
  },
  {
   "cell_type": "code",
   "execution_count": null,
   "id": "8bde4827-4cdf-477f-b83a-9b98b674cef5",
   "metadata": {},
   "outputs": [],
   "source": [
    "le.fit_transform(df[\"species\"])"
   ]
  },
  {
   "cell_type": "code",
   "execution_count": null,
   "id": "ce447ae8-a5bd-4309-8445-ab206b13d33b",
   "metadata": {},
   "outputs": [],
   "source": [
    "df[\"species\"] = le.fit_transform(df[\"species\"])"
   ]
  },
  {
   "cell_type": "code",
   "execution_count": null,
   "id": "d304e359-b12e-4276-8ed9-ce1f3cd1a9f0",
   "metadata": {},
   "outputs": [],
   "source": [
    "df[\"species\"].value_counts()"
   ]
  },
  {
   "cell_type": "code",
   "execution_count": null,
   "id": "8100747d-894f-4a6a-918e-f12d84f8eb0f",
   "metadata": {},
   "outputs": [],
   "source": [
    "# target değişkeninin nümeric dönüşüm sonrası feature'lar ile korelasyonu \n",
    "\n",
    "df.corr()['species'][:-1].sort_values().plot.barh();"
   ]
  },
  {
   "cell_type": "code",
   "execution_count": null,
   "id": "bd24250c-d62a-438d-84da-3f43e640e955",
   "metadata": {},
   "outputs": [],
   "source": [
    "df.head()"
   ]
  },
  {
   "cell_type": "markdown",
   "id": "69b6c480-bcd8-41bf-8369-bc6409c1b4d7",
   "metadata": {},
   "source": [
    "### Train-Test Split"
   ]
  },
  {
   "cell_type": "code",
   "execution_count": null,
   "id": "fb050ecb-1862-46cf-a0fa-bdd378c08943",
   "metadata": {},
   "outputs": [],
   "source": [
    "X = df .drop(\"species\", axis = 1)\n",
    "y = df[\"species\"]"
   ]
  },
  {
   "cell_type": "code",
   "execution_count": null,
   "id": "71443440-fcc3-4c2d-a99a-f4664d4a5c7e",
   "metadata": {},
   "outputs": [],
   "source": [
    "X_train, X_test, y_train, y_test = train_test_split(X, y, test_size = 0.2, random_state = 42)"
   ]
  },
  {
   "cell_type": "code",
   "execution_count": null,
   "id": "e5e535ef-48ad-4a54-8f9b-dce983b6f174",
   "metadata": {
    "cell_style": "split",
    "hidden": true
   },
   "outputs": [],
   "source": [
    "scaler = MinMaxScaler()"
   ]
  },
  {
   "cell_type": "code",
   "execution_count": null,
   "id": "e463cc5e-def8-4942-bc14-f11f744f70d8",
   "metadata": {
    "cell_style": "split",
    "executionInfo": {
     "elapsed": 696,
     "status": "ok",
     "timestamp": 1610203508023,
     "user": {
      "displayName": "Richard C",
      "photoUrl": "",
      "userId": "08040814671867660929"
     },
     "user_tz": -180
    },
    "hidden": true,
    "id": "Fgy3D9SBmWcq"
   },
   "outputs": [],
   "source": [
    "X_train = scaler.fit_transform(X_train)\n",
    "X_test = scaler.transform(X_test)"
   ]
  },
  {
   "cell_type": "markdown",
   "id": "e81232fe-2c25-4072-8e3f-613f49c0ae51",
   "metadata": {},
   "source": [
    "## ANN Model"
   ]
  },
  {
   "cell_type": "markdown",
   "id": "77ab0d3c-36ea-439a-a2ca-4ea79a33093b",
   "metadata": {},
   "source": [
    "#### ÖNEMLİ:\n",
    "* Veri setinizdeki hedef değişkenler sınıf numaraları şeklinde ise, yani her sınıf bir sayı ile temsil ediliyorsa, **sparse_categorical_crossentropy** kayıp fonksiyonunu kullanmanız daha uygun olacaktır. Eğer one-hot kodlaması kullanılıyorsa, o zaman **categorical_crossentropy** tercih edilir. Biz taget değişkenimizin durumundan dolayı sparse_categorical_crossentropy loss fonksiyonunu tercih edicez \n",
    "* Eğer modelimizde categorical_crossentropy kullanıcak olsaydık önce **from tensorflow.keras.utils import to_categorical** import edip sonra da y verimiz üzerinde sırayla **y_train_encoded = to_categorical(y_train)** ve **y_test_encoded = to_categorical(y_test)** yapmamız gerekecekti"
   ]
  },
  {
   "cell_type": "code",
   "execution_count": null,
   "id": "17c7dc1d-0be7-4f90-a27d-54443e2f69ae",
   "metadata": {
    "jupyter": {
     "outputs_hidden": true
    },
    "tags": []
   },
   "outputs": [],
   "source": [
    "# Build the model\n",
    "model = Sequential([\n",
    "    Dense(units=10, activation=\"relu\"),\n",
    "    Dense(units=10, activation=\"relu\"),             # nöron sayısını azalttığımıızda epoch arttırmak gerekti\n",
    "    Dense(units=3, activation=\"softmax\")\n",
    "])\n",
    "\n",
    "opt = Adam(learning_rate=0.001)\n",
    "\n",
    "model.compile(optimizer=opt, loss=\"sparse_categorical_crossentropy\", metrics=[\"accuracy\"])\n",
    "\n",
    "history = model.fit(x=X_train, y=y_train, \n",
    "                    validation_data=(X_test, y_test),\n",
    "                    batch_size=5, epochs=200)"
   ]
  },
  {
   "cell_type": "code",
   "execution_count": null,
   "id": "792e7023-f17c-4136-aaf5-576cebf20230",
   "metadata": {},
   "outputs": [],
   "source": [
    "model.summary()"
   ]
  },
  {
   "cell_type": "markdown",
   "id": "82609b06-98ab-4ef2-88c9-1bb2cc2a07a2",
   "metadata": {},
   "source": [
    "* Verimiz büyük ve kompleks bir form da olmadığı için Dropout ve Early stopping yöntemlerini uygulamadık"
   ]
  },
  {
   "cell_type": "code",
   "execution_count": null,
   "id": "d4987ace-9891-4b00-9142-04df1a945e4b",
   "metadata": {},
   "outputs": [],
   "source": [
    "def eval_metric(model, X_train, y_train, X_test, y_test):\n",
    "    y_train_pred_probabilities = model.predict(X_train)\n",
    "    y_train_pred = y_train_pred_probabilities.argmax(axis=1)\n",
    "    y_pred_probabilities = model.predict(X_test)\n",
    "    y_pred = y_pred_probabilities.argmax(axis=1)\n",
    "    \n",
    "    print(\"Test Set:\")\n",
    "    print(confusion_matrix(y_test, y_pred))\n",
    "    print(classification_report(y_test, y_pred))\n",
    "    \n",
    "    print(\"\\nTrain Set:\")\n",
    "    print(confusion_matrix(y_train, y_train_pred))\n",
    "    print(classification_report(y_train, y_train_pred))"
   ]
  },
  {
   "cell_type": "code",
   "execution_count": null,
   "id": "494e331b-283d-4e85-a661-1c67c087c3bd",
   "metadata": {},
   "outputs": [],
   "source": [
    "eval_metric(model, X_train, y_train, X_test, y_test)"
   ]
  },
  {
   "cell_type": "code",
   "execution_count": null,
   "id": "e7a7230a-0d21-4a7d-9ab1-eb750906b6cf",
   "metadata": {},
   "outputs": [],
   "source": [
    "pd.DataFrame(history.history).plot(figsize=(10,6))\n",
    "plt.grid(True)\n",
    "plt.gca().set_ylim(0, 1)\n",
    "plt.show()"
   ]
  },
  {
   "cell_type": "code",
   "execution_count": null,
   "id": "c2d9e9a9-67dd-474d-908b-a3325ddb8d6b",
   "metadata": {},
   "outputs": [],
   "source": [
    "# Sadece Accuracy değişimine bakalım\n",
    "\n",
    "print(\"\\nAccuracy during Training :\\n------------------------------------\")\n",
    "\n",
    "pd.DataFrame(history.history)[\"accuracy\"].plot(figsize=(10, 5))\n",
    "plt.title(\"Accuracy improvements with Epoch\")\n",
    "plt.show()"
   ]
  },
  {
   "cell_type": "markdown",
   "id": "7dbae575-eb13-463f-b16f-c4ebce1039c9",
   "metadata": {},
   "source": [
    "## Final Model and Model Deployment"
   ]
  },
  {
   "cell_type": "code",
   "execution_count": null,
   "id": "1f5f806a-7103-4519-afe5-0494cd20371a",
   "metadata": {},
   "outputs": [],
   "source": [
    "X.shape"
   ]
  },
  {
   "cell_type": "code",
   "execution_count": null,
   "id": "5574ecf0-2c2b-4ce6-aeec-7ac20c34a6bb",
   "metadata": {},
   "outputs": [],
   "source": [
    "y.shape"
   ]
  },
  {
   "cell_type": "code",
   "execution_count": null,
   "id": "16c948ea",
   "metadata": {
    "ExecuteTime": {
     "end_time": "2023-05-27T08:00:43.512882Z",
     "start_time": "2023-05-27T08:00:43.493910Z"
    }
   },
   "outputs": [],
   "source": [
    "scaler = MinMaxScaler().fit(X)"
   ]
  },
  {
   "cell_type": "code",
   "execution_count": null,
   "id": "7407c108",
   "metadata": {
    "ExecuteTime": {
     "end_time": "2023-05-27T08:00:55.082517Z",
     "start_time": "2023-05-27T08:00:55.071199Z"
    }
   },
   "outputs": [],
   "source": [
    "# MinMaxScaler işleminin kaydedilmesi\n",
    "pickle.dump(scaler, open(\"scaler_iris\", 'wb'))"
   ]
  },
  {
   "cell_type": "code",
   "execution_count": null,
   "id": "4bb58cb2-8a39-4b85-aa91-c7c650e90726",
   "metadata": {},
   "outputs": [],
   "source": [
    "X_scaled = scaler.transform(X)"
   ]
  },
  {
   "cell_type": "code",
   "execution_count": null,
   "id": "17900825-b9d2-4217-aaa0-e083f479dccf",
   "metadata": {
    "jupyter": {
     "outputs_hidden": true
    },
    "tags": []
   },
   "outputs": [],
   "source": [
    "final_model = Sequential([\n",
    "            Dense(units=10, activation=\"relu\"),\n",
    "            Dense(units=10, activation=\"relu\"),             # nöron sayısını azalttığımıızda epoch arttırmak gerekti\n",
    "            Dense(units=3, activation=\"softmax\")\n",
    "    ])\n",
    "\n",
    "opt = Adam(learning_rate=0.001)\n",
    "\n",
    "final_model.compile(optimizer=opt, loss=\"sparse_categorical_crossentropy\", metrics=[\"accuracy\"])\n",
    "\n",
    "final_model.fit(x=X_scaled, y=y, batch_size=5, epochs=200) "
   ]
  },
  {
   "cell_type": "code",
   "execution_count": null,
   "id": "0282c964-f6e7-4910-ac91-93d833c9c35b",
   "metadata": {},
   "outputs": [],
   "source": [
    "# Modelin kaydedilmesi\n",
    "\n",
    "final_model.save('final_model_ANN_iris.h5') "
   ]
  },
  {
   "cell_type": "markdown",
   "id": "643ffaee-8e10-4345-bf18-5f9ffd2734da",
   "metadata": {},
   "source": [
    "### Kaydedilmiş Model Üzerinden Prediction "
   ]
  },
  {
   "cell_type": "code",
   "execution_count": null,
   "id": "84e6ef2d-3f8c-4154-a0b5-5ac18b0db34e",
   "metadata": {},
   "outputs": [],
   "source": [
    "# Manuel datamızı oluşturuyoruz \n",
    "\n",
    "my_dict = {\"sepal_length\": [4.5, 5.8, 7.5],\n",
    "           \"sepal_width\": [2.2, 3, 4.2],\n",
    "           \"petal_length\": [1.3, 4.3, 6.5],\n",
    "           \"petal_width\": [0.2, 1.3, 2.3]}\n",
    "\n",
    "sample_ann = pd.DataFrame(my_dict)\n",
    "sample_ann"
   ]
  },
  {
   "cell_type": "code",
   "execution_count": null,
   "id": "45b3f22f",
   "metadata": {
    "ExecuteTime": {
     "end_time": "2023-05-27T08:06:41.979486Z",
     "start_time": "2023-05-27T08:06:41.963706Z"
    }
   },
   "outputs": [],
   "source": [
    "# min-max scaler dosyasının yüklenmesi\n",
    "scaler_iris = pickle.load(open(\"scaler_iris\", \"rb\"))"
   ]
  },
  {
   "cell_type": "code",
   "execution_count": null,
   "id": "c97ce100",
   "metadata": {
    "ExecuteTime": {
     "end_time": "2023-05-27T08:07:13.018038Z",
     "start_time": "2023-05-27T08:07:13.003265Z"
    }
   },
   "outputs": [],
   "source": [
    "sample_scaled = scaler_iris.transform(sample_ann)\n",
    "sample_scaled"
   ]
  },
  {
   "cell_type": "code",
   "execution_count": null,
   "id": "c62e7d37-a935-462d-a033-c0956c42c736",
   "metadata": {},
   "outputs": [],
   "source": [
    "# daha önceden eğitilmiş modelin yüklenmsi\n",
    "\n",
    "from tensorflow.keras.models import load_model"
   ]
  },
  {
   "cell_type": "code",
   "execution_count": null,
   "id": "5a25b7cc-51ed-4b00-9ae6-fe1ee2aa3717",
   "metadata": {},
   "outputs": [],
   "source": [
    "final_model = load_model('final_model_ANN_iris.h5')"
   ]
  },
  {
   "cell_type": "code",
   "execution_count": null,
   "id": "fd063090-ad03-44c0-b597-3a7505fd5fc7",
   "metadata": {},
   "outputs": [],
   "source": [
    "final_model.predict(sample_scaled)"
   ]
  },
  {
   "cell_type": "code",
   "execution_count": null,
   "id": "bfbba0e5-4147-439c-b8b6-b247af76f9b2",
   "metadata": {},
   "outputs": [],
   "source": [
    "y_pred_probabilities = final_model.predict(sample_scaled)\n",
    "y_pred = y_pred_probabilities.argmax(axis=1)"
   ]
  },
  {
   "cell_type": "code",
   "execution_count": null,
   "id": "90c4d647-93d6-45c7-ad36-83a74eff8b01",
   "metadata": {},
   "outputs": [],
   "source": [
    "sample_ann[\"pred\"] = y_pred\n",
    "sample_ann"
   ]
  },
  {
   "cell_type": "code",
   "execution_count": null,
   "id": "0276b3d1-81b9-473b-8bff-725f053bb9ae",
   "metadata": {},
   "outputs": [],
   "source": [
    "predictions = final_model.predict(sample_scaled)\n",
    "\n",
    "normalized_predictions = tf.nn.softmax(predictions, axis=-1).numpy()"
   ]
  },
  {
   "cell_type": "code",
   "execution_count": null,
   "id": "09d7d96e-ec7b-49bc-be0b-c905e96b824d",
   "metadata": {},
   "outputs": [],
   "source": [
    "normalized_predictions"
   ]
  },
  {
   "cell_type": "code",
   "execution_count": null,
   "id": "d8319d5d-b7d8-4367-a605-03b3e13e66a3",
   "metadata": {},
   "outputs": [],
   "source": [
    "sample_ann[\"pred_proba_setosa\"] = normalized_predictions[:,0]\n",
    "sample_ann[\"pred_proba_versicolor\"] = normalized_predictions[:,1]\n",
    "sample_ann[\"pred_proba_virginica\"] = normalized_predictions[:,2]\n",
    "sample_ann"
   ]
  },
  {
   "cell_type": "markdown",
   "id": "1afe819e-0992-4ba3-b9dc-84e14358cd4e",
   "metadata": {
    "tags": []
   },
   "source": [
    "## xgboost Model"
   ]
  },
  {
   "cell_type": "code",
   "execution_count": null,
   "id": "c1f4223c-0375-467d-a578-90dbbde058ef",
   "metadata": {},
   "outputs": [],
   "source": [
    "X_train, X_test, y_train, y_test = train_test_split(X, y, test_size = 0.2, random_state = 42)"
   ]
  },
  {
   "cell_type": "code",
   "execution_count": null,
   "id": "7aff3334-1941-4b36-b63f-21b8d3c4cb8a",
   "metadata": {},
   "outputs": [],
   "source": [
    "X_train.shape"
   ]
  },
  {
   "cell_type": "code",
   "execution_count": null,
   "id": "741b8760-bc42-45b4-b651-b412d10a7207",
   "metadata": {},
   "outputs": [],
   "source": [
    "import xgboost as xgb\n",
    "xgb_cls = xgb.XGBClassifier(objective = \"multiclass:softmax\", num_class = 3)"
   ]
  },
  {
   "cell_type": "code",
   "execution_count": null,
   "id": "fdb19d40-773f-4f68-a66a-8689e229ea43",
   "metadata": {},
   "outputs": [],
   "source": [
    "xgb_cls.fit(X_train,y_train)"
   ]
  },
  {
   "cell_type": "code",
   "execution_count": null,
   "id": "ef3e1adf-3aae-4576-a942-b8f9fbbe9767",
   "metadata": {},
   "outputs": [],
   "source": [
    "preds = xgb_cls.predict(X_test)"
   ]
  },
  {
   "cell_type": "code",
   "execution_count": null,
   "id": "882da982-79f3-4497-8035-85bd78c858da",
   "metadata": {},
   "outputs": [],
   "source": [
    "preds"
   ]
  },
  {
   "cell_type": "code",
   "execution_count": null,
   "id": "b9cb8d1b-9efa-4b09-b334-6e56072dcf79",
   "metadata": {},
   "outputs": [],
   "source": [
    "np.array(y_test)"
   ]
  },
  {
   "cell_type": "code",
   "execution_count": null,
   "id": "8cff0785-e59f-4b60-b646-25bab46626ee",
   "metadata": {},
   "outputs": [],
   "source": [
    "def eval_metric(model, X_train, y_train, X_test, y_test):\n",
    "    y_train_pred = model.predict(X_train)\n",
    "    y_pred = model.predict(X_test)\n",
    "    \n",
    "    print(\"Test_Set\")\n",
    "    print(confusion_matrix(y_test, y_pred))\n",
    "    print(classification_report(y_test, y_pred))\n",
    "    print()\n",
    "    print(\"Train_Set\")\n",
    "    print(confusion_matrix(y_train, y_train_pred))\n",
    "    print(classification_report(y_train, y_train_pred))"
   ]
  },
  {
   "cell_type": "code",
   "execution_count": null,
   "id": "f0fac4d6-4f9a-4377-a949-92c3dbe042a9",
   "metadata": {},
   "outputs": [],
   "source": [
    "eval_metric(xgb_cls, X_train, y_train, X_test, y_test)"
   ]
  },
  {
   "cell_type": "code",
   "execution_count": null,
   "id": "27613969-4d71-42cf-b796-08629faa090c",
   "metadata": {},
   "outputs": [],
   "source": [
    "from sklearn.model_selection import cross_validate\n",
    "\n",
    "model = xgb.XGBClassifier(objective = \"multiclass:softmax\", num_class = 3)\n",
    "\n",
    "scores = cross_validate(model, X_train, y_train, scoring = ['accuracy', 'precision_weighted','recall_weighted',\n",
    "                                                            'f1_weighted'], cv = 20)\n",
    "                                                        \n",
    "df_scores = pd.DataFrame(scores, index = range(1, 21))\n",
    "df_scores.mean()[2:]"
   ]
  },
  {
   "cell_type": "markdown",
   "id": "3a9419ac-8f42-4920-8a14-b045ec73a0f7",
   "metadata": {},
   "source": [
    "## Final Model and Model Deployment"
   ]
  },
  {
   "cell_type": "code",
   "execution_count": null,
   "id": "afe73735",
   "metadata": {
    "ExecuteTime": {
     "end_time": "2023-05-27T08:05:16.402249Z",
     "start_time": "2023-05-27T08:05:16.378889Z"
    }
   },
   "outputs": [],
   "source": [
    "final_model = xgb.XGBClassifier(objective = \"multiclass:softmax\", num_class = 3).fit(X, y)"
   ]
  },
  {
   "cell_type": "code",
   "execution_count": null,
   "id": "8bcbe261",
   "metadata": {
    "ExecuteTime": {
     "end_time": "2023-05-27T08:06:32.661005Z",
     "start_time": "2023-05-27T08:06:32.652388Z"
    }
   },
   "outputs": [],
   "source": [
    "pickle.dump(final_model, open(\"final_model_xgboost_iris\", 'wb'))"
   ]
  },
  {
   "cell_type": "markdown",
   "id": "25eab828-d39f-48de-a22c-47f4eb147aed",
   "metadata": {},
   "source": [
    "### Kaydedilmiş Model Üzerinden Prdiction "
   ]
  },
  {
   "cell_type": "code",
   "execution_count": null,
   "id": "61ff8828-00d2-428c-9237-b21d4f0c09c0",
   "metadata": {},
   "outputs": [],
   "source": [
    "my_dict = {\"sepal_length\": [4.5, 5.8, 7.5],\n",
    "           \"sepal_width\": [2.2, 3, 4.2],\n",
    "           \"petal_length\": [1.3, 4.3, 6.5],\n",
    "           \"petal_width\": [0.2, 1.3, 2.3]}\n",
    "sample_xgboost = pd.DataFrame(my_dict)\n",
    "sample_xgboost"
   ]
  },
  {
   "cell_type": "code",
   "execution_count": null,
   "id": "4a34be70",
   "metadata": {
    "ExecuteTime": {
     "end_time": "2023-05-27T08:07:22.551899Z",
     "start_time": "2023-05-27T08:07:22.539066Z"
    }
   },
   "outputs": [],
   "source": [
    "final_model = pickle.load(open(\"final_model_xgboost_iris\", \"rb\"))"
   ]
  },
  {
   "cell_type": "code",
   "execution_count": null,
   "id": "0de1ae55-61e6-46f7-a254-a8ba8703d39a",
   "metadata": {},
   "outputs": [],
   "source": [
    "predictions = final_model.predict(sample_xgboost)\n",
    "predictions_proba = final_model.predict_proba(sample_xgboost)"
   ]
  },
  {
   "cell_type": "code",
   "execution_count": null,
   "id": "ae3d8550-1aef-4496-b83c-17e0ec2aed2d",
   "metadata": {},
   "outputs": [],
   "source": [
    "predictions_proba"
   ]
  },
  {
   "cell_type": "code",
   "execution_count": null,
   "id": "bacb322e-0daa-4ab8-97b7-904c50d44827",
   "metadata": {},
   "outputs": [],
   "source": [
    "sample_xgboost[\"pred\"] = predictions\n",
    "sample_xgboost[\"pred_proba_setosa\"] = predictions_proba[:,0]\n",
    "sample_xgboost[\"pred_proba_versicolor\"] = predictions_proba[:,1]\n",
    "sample_xgboost[\"pred_proba_virginica\"] = predictions_proba[:,2]\n",
    "sample_xgboost"
   ]
  },
  {
   "cell_type": "code",
   "execution_count": null,
   "id": "3a9b5a77-394f-4aea-aa17-3969799fa589",
   "metadata": {},
   "outputs": [],
   "source": [
    "sample_ann         # yukarıda XGBoost tahminleri ile aşağıda ANN tahminlerini karşılaştırabilriz"
   ]
  },
  {
   "cell_type": "markdown",
   "id": "7a910cbb-e456-459e-903b-2260643eff1d",
   "metadata": {
    "tags": []
   },
   "source": [
    "## Alternatif Denemeler"
   ]
  },
  {
   "cell_type": "markdown",
   "id": "2783d934-e2ec-40be-a418-17acdb9e7607",
   "metadata": {},
   "source": [
    "* Bu aşamada loss function olarak sparse_categorical_crossentropy yerine categorical_crossentropy deneyip çeşitli parametre ayarlamalarıyla sonuçlarımızı karşılaştırmaya çalıştık"
   ]
  },
  {
   "cell_type": "markdown",
   "id": "d751ae7c-070e-4e7e-beac-518ae751dcd0",
   "metadata": {},
   "source": [
    "### categorical_crossentropy kullanımı"
   ]
  },
  {
   "cell_type": "code",
   "execution_count": null,
   "id": "8e8174ff-eddf-446f-8734-674ddad496fe",
   "metadata": {
    "jupyter": {
     "outputs_hidden": true
    },
    "tags": []
   },
   "outputs": [],
   "source": [
    "import numpy as np\n",
    "from sklearn.datasets import load_iris\n",
    "from sklearn.model_selection import train_test_split\n",
    "from sklearn.preprocessing import OneHotEncoder\n",
    "from keras.models import Sequential\n",
    "from keras.layers import Dense\n",
    "from keras.optimizers import Adam\n",
    "iris_data = load_iris() # load the iris dataset\n",
    "x = iris_data.data\n",
    "y_ = iris_data.target.reshape(-1, 1) # Convert data to a single column\n",
    "# One Hot encode the class labels\n",
    "encoder = OneHotEncoder(sparse=False)\n",
    "y = encoder.fit_transform(y_)\n",
    "#print(y)\n",
    "# Split the data for training and testing\n",
    "train_x, test_x, train_y, test_y = train_test_split(x, y, test_size=0.20)\n",
    "# Build the model\n",
    "model = Sequential()\n",
    "model.add(Dense(10, input_shape=(4,), activation='relu', name='fc1'))\n",
    "model.add(Dense(10, activation='relu', name='fc2'))\n",
    "model.add(Dense(3, activation='softmax', name='output'))\n",
    "# Adam optimizer with learning rate of 0.001\n",
    "optimizer = Adam(lr=0.001)\n",
    "model.compile(optimizer, loss='categorical_crossentropy', metrics=['accuracy'])\n",
    "print('Neural Network Model Summary: ')\n",
    "print(model.summary())\n",
    "# Train the model\n",
    "model.fit(train_x, train_y, verbose=2, batch_size=5, epochs=200)\n",
    "# Test on unseen data\n",
    "results = model.evaluate(test_x, test_y)\n",
    "print('Final test set loss: {:4f}'.format(results[0]))\n",
    "print('Final test set accuracy: {:4f}'.format(results[1]))"
   ]
  },
  {
   "cell_type": "code",
   "execution_count": null,
   "id": "cc448c7e-1449-4fdd-896f-9128bbc06745",
   "metadata": {},
   "outputs": [],
   "source": [
    "model.summary()"
   ]
  },
  {
   "cell_type": "markdown",
   "id": "e7873576-6ba0-42fd-a709-90d050b4b2ad",
   "metadata": {},
   "source": [
    "* Verimiz büyük ve kompleks bir form da olmadığı için Dropout ve Early stopping yöntemlerini uygulamadık"
   ]
  },
  {
   "cell_type": "code",
   "execution_count": null,
   "id": "63dd6b92-3213-4c7a-8bf1-02a6f3df2ee4",
   "metadata": {},
   "outputs": [],
   "source": [
    "def eval_metric(model, X_train, y_train, X_test, y_test):\n",
    "    y_train_pred_probabilities = model.predict(X_train)\n",
    "    y_train_pred = y_train_pred_probabilities.argmax(axis=1)\n",
    "    y_pred_probabilities = model.predict(X_test)\n",
    "    y_pred = y_pred_probabilities.argmax(axis=1)\n",
    "    \n",
    "    print(\"Test Set:\")\n",
    "    print(confusion_matrix(y_test, y_pred))\n",
    "    print(classification_report(y_test, y_pred))\n",
    "    \n",
    "    print(\"\\nTrain Set:\")\n",
    "    print(confusion_matrix(y_train, y_train_pred))\n",
    "    print(classification_report(y_train, y_train_pred))"
   ]
  },
  {
   "cell_type": "code",
   "execution_count": null,
   "id": "ba11e914-17e5-494d-80ab-291be34ebaa7",
   "metadata": {},
   "outputs": [],
   "source": [
    "eval_metric(model, X_train, y_train, X_test, y_test)"
   ]
  },
  {
   "cell_type": "code",
   "execution_count": null,
   "id": "0851ef8e-d6c8-4018-bda9-c7cd8f0d65f3",
   "metadata": {},
   "outputs": [],
   "source": [
    "# Manuel datamızı oluşturuyoruz \n",
    "\n",
    "my_dict = {\"sepal_length\": [4.5, 5.8, 7.5],\n",
    "           \"sepal_width\": [2.2, 3, 4.2],\n",
    "           \"petal_length\": [1.3, 4.3, 6.5],\n",
    "           \"petal_width\": [0.2, 1.3, 2.3]}\n",
    "\n",
    "sample_ann = pd.DataFrame(my_dict)\n",
    "sample_scaled = scaler.transform(sample_ann)"
   ]
  },
  {
   "cell_type": "code",
   "execution_count": null,
   "id": "cf69b181-8dda-4797-aa7e-26ed5e8d90b9",
   "metadata": {},
   "outputs": [],
   "source": [
    "sample_scaled"
   ]
  },
  {
   "cell_type": "code",
   "execution_count": null,
   "id": "5ae51832-00a3-440c-b477-651b72a5eea0",
   "metadata": {},
   "outputs": [],
   "source": [
    "predictions = model.predict(sample_scaled)\n",
    "\n",
    "normalized_predictions = tf.nn.softmax(predictions, axis=-1).numpy()"
   ]
  },
  {
   "cell_type": "code",
   "execution_count": null,
   "id": "74874e14-0c5e-4161-858e-6471fa605d07",
   "metadata": {},
   "outputs": [],
   "source": [
    "normalized_predictions"
   ]
  },
  {
   "cell_type": "markdown",
   "id": "b4c459f2-771a-45fb-89f8-d26cb7ba5469",
   "metadata": {},
   "source": [
    "### Hyperparameter Tuning deneme sonuçları"
   ]
  },
  {
   "cell_type": "markdown",
   "id": "d6ea5d71-9339-44f4-a46c-8d29f34179fe",
   "metadata": {},
   "source": [
    "* 3 hidden 16,8,4 - batch size 5 - accuracy 0.70 - epoch 200\n",
    "* 3 hidden 16,8,4 - batch size 30 - accuracy 0.96 -  epoch 200\n",
    "* 2 hidden 16,8  - batch size 30 - accuracy 0.92 -  epoch 200\n",
    "* 2 hidden 16,8  - batch size 20 - accuracy 0.96 - epoch 200\n",
    "* 2 hidden 16,8  - batch size 20 - accuracy 0.96 - epoch 100\n",
    "* 2 hidden 8,4  - batch size 5 - accuracy 0.96  - epoch 100 -  learning_rate=0.001\n",
    "* 2 hidden 8,4  - batch size 5 - accuracy 1.0 -  epoch 100 - learning_rate=0.003 \n",
    "* 2 hidden 8,4  - batch size 10 - accuracy 0.96  - epoch 100 - learning_rate=0.003 - epoch 150 aynı sonuç\n",
    "* 2 hidden 8,4  - batch size 5 - accuracy 1.0 -  epoch 150  - learning_rate=0.003  -  test size 0.1   -  loss 0,0336     **tercih 1\n",
    "* 2 hidden 8,4  - batch size 20 - accuracy 1.0  - epoch 150 - learning_rate=0.003 \n",
    "* 2 hidden 8,4  - batch size 30 - accuracy 0.96 - epoch 150 - learning_rate=0.003 \n",
    "* 2 hidden 8,4  - batch size 40 - accuracy 0.96 -  epoch 200 - learning_rate=0.003\n",
    "* 2 hidden 64,64  - batch size 14 - accuracy 0.96 -  epoch 20 - learning_rate=0.003 \n",
    "* 2 hidden 64,64  - batch size 10 - accuracy 0.93  - epoch 30 - learning_rate=0.003 \n",
    "* 2 hidden 64,64  - batch size 10 - accuracy 0.93 -  epoch 30 - learning_rate=0.008  - loss 0,0545\n",
    "* 2 hidden 128,128  - batch size 10 - accuracy 0.96 - epoch 30 - learning_rate=0.008  - loss 0,0460\n",
    "* 2 hidden 128,128  - batch size 20 - accuracy 0.96  - epoch 50 - learning_rate=0.008  - loss 0,0428\n",
    "* 2 hidden 128,128  - batch size 30 - accuracy 1.0 - epoch 70 - learning_rate=0.008  - loss 0,0336\n",
    "* 2 hidden 128,128  - batch size 30 - accuracy 1.0 -  epoch 80 - learning_rate=0.01  - loss 0,0412\n",
    "* 2 hidden 128,128  - batch size 40 - accuracy 1.0  - epoch 80 - learning_rate=0.01  - loss 0,0412\n",
    "* 2 hidden 128,128  - batch size 14 - accuracy 0.96 - epoch 20 - learning_rate=0.003  "
   ]
  },
  {
   "cell_type": "markdown",
   "id": "cee76fac-2509-4a73-951a-441a7ff5dad8",
   "metadata": {},
   "source": [
    "## Sonuç ve Çıkarımlar"
   ]
  },
  {
   "cell_type": "markdown",
   "id": "b92ce10f-4a4c-4fce-9346-039526513827",
   "metadata": {},
   "source": [
    "* Genel olarak 2 hidden layer seçeneklerimiz de daha yüksek score lar elde ettik\n",
    "* Nöron sayılarını belirlerken iki seçenek karşımıza çıktı \n",
    "  - Eğer düşük nöronlar(16, 8, 4 gibi) seçtiysek, 5-40 arası batch size için 100-200 epoch denemeleri ile 0.96 ile 1.00 arası score'lar elde ettik\n",
    "  - Eğer yüksek nöronlar(64, 128 gibi) seçtiysek, 10-40 arası batch size için 20-100 epoch denemeleri ile 0.96 ile 1.00 arası score'lar elde ettik\n",
    "* Burdan çıkardığımız sonuçlar:\n",
    "    - Yüksek nöron seçiminde düşük epoch denemelerinin yeterli olduğu\n",
    "    - Düşük batch size seçiminde yüksek epoch denemelerinin gerekmediği (burada ki kıyaslama yüksek batch size seçimlerine göre)\n",
    "    - Verinin az olduğu durumlarda ANN de çok fazla altenatif parametre ayarları yapabilsekde sonucun çok değişmediği görüldü. Hatta XGBoost modeline göre çiçek türü tahminlerinde ANN düşük probability ile karar verdiği görüldü. Örneğin aşağıda ki 2 modelin tahminlerinde XGBoost yüksek probability(0.99) ile çiçek türüne karar verirken, ANN de bir çok farklı parametre denemelerine rağmen max 0.58 ile çiçek türü tahminlerini gerçekleştirdiği görüldü."
   ]
  },
  {
   "cell_type": "code",
   "execution_count": null,
   "id": "d50c61a2-2c12-433b-9aba-75e3b9b9dc1d",
   "metadata": {},
   "outputs": [],
   "source": [
    "sample_xgboost     # xgboost modeli tahmin sonuçları "
   ]
  },
  {
   "cell_type": "code",
   "execution_count": null,
   "id": "b8647d71-6890-4b33-ac2f-18994c644817",
   "metadata": {},
   "outputs": [],
   "source": [
    "sample_ann       # ANN modeli tahmin sonuçları        "
   ]
  },
  {
   "cell_type": "markdown",
   "id": "3a068503-087e-4930-9855-860b50e91daa",
   "metadata": {},
   "source": [
    "# Streamlit "
   ]
  },
  {
   "cell_type": "markdown",
   "id": "9ed0df38-2ec8-4ebe-ac6a-8a91b597cce6",
   "metadata": {},
   "source": [
    "### EDA - Prediction (XGBOOST - ANN)"
   ]
  },
  {
   "cell_type": "code",
   "execution_count": null,
   "id": "4bfe9775-6b18-46f2-b22b-b3f9aa57ffcf",
   "metadata": {},
   "outputs": [],
   "source": [
    "%%writefile iris_app.py\n",
    "import streamlit as st\n",
    "import pandas as pd\n",
    "import numpy as np\n",
    "import seaborn as sns\n",
    "from matplotlib import pyplot as plt\n",
    "import pickle\n",
    "from keras import models\n",
    "import tensorflow as tf\n",
    "from tensorflow.keras.models import load_model\n",
    "from sklearn.preprocessing import LabelEncoder\n",
    "le = LabelEncoder()\n",
    "\n",
    "iris = pd.read_csv(\"iris.csv\")\n",
    "\n",
    "st.markdown(\n",
    "    \"\"\"\n",
    "    <style>\n",
    "    .stApp {\n",
    "        background-color: #e6dd27;  /* Koyu sarı renk */\n",
    "    </style>\n",
    "    \"\"\",\n",
    "    unsafe_allow_html=True\n",
    ")\n",
    "\n",
    "\n",
    "# Sekmeleri ekleyin\n",
    "selected_tab = st.sidebar.selectbox(\"Select Page\", [\"EDA\", \"Prediction\"])\n",
    "\n",
    "if selected_tab == \"EDA\":\n",
    "   \n",
    "    #st.sidebar.header('User Input Parameters for EDA')\n",
    "    # EDA ile ilgili kodları burada ekleyin, veri görselleştirmeleri vb.\n",
    "    st.markdown('<p style=\"background-color: #8a4baf; color: white; font-size: 20px; padding: 20px; border-radius: 10px; text-align: center; box-shadow: 0px 4px 6px rgba(0, 0, 0, 0.1);\">Exploring Data Analysis (EDA)</p>', unsafe_allow_html=True)\n",
    "    st.image(\"https://data-flair.training/blogs/wp-content/uploads/sites/2/2021/10/iris-flower.webp\", use_column_width=True)\n",
    "    \n",
    "    plt.figure(figsize=(8, 6))\n",
    "    ax=sns.countplot(data=iris, x='species')\n",
    "    ax.bar_label(ax.containers[0])\n",
    "    plt.title('Species Distribution in Iris Dataset')\n",
    "    plt.xlabel('Species')\n",
    "    plt.ylabel('Count')\n",
    "    st.pyplot(plt)\n",
    "    \n",
    "    \n",
    "    st.markdown('<p style=\"background-color: #8a4baf; color: white; font-size: 20px; padding: 10px; border-radius: 5px; text-align: left; box-shadow: 0px 2px 3px rgba(0, 0, 0, 0.1);\">Statistical Properties of the Features</p>', unsafe_allow_html=True)\n",
    "    st.dataframe(iris.describe())\n",
    "    \n",
    "    \n",
    "    st.markdown('<p style=\"background-color: #8a4baf; color: white; font-size: 20px; padding: 10px; border-radius: 5px; text-align: left; box-shadow: 0px 2px 3px rgba(0, 0, 0, 0.1);\">Plot the Distributions of Features For Each Species</p>', unsafe_allow_html=True)\n",
    "    sns.set(style=\"whitegrid\")\n",
    "    sns.pairplot(iris, hue='species', markers=[\"o\", \"s\", \"D\"], diag_kind=\"kde\")\n",
    "    st.pyplot(plt)\n",
    "    \n",
    "    \n",
    "    st.markdown('<p style=\"background-color: #8a4baf; color: white; font-size: 20px; padding: 10px; border-radius: 5px; text-align: left; box-shadow: 0px 2px 3px rgba(0, 0, 0, 0.1);\">Status of Outliers</p>', unsafe_allow_html=True)\n",
    "    sns.set(style = \"ticks\")\n",
    "    plt.figure(figsize = (12,10))\n",
    "\n",
    "    plt.subplot(2,2,1)                                                 \n",
    "    sns.boxplot(x = \"species\", y = \"sepal_length\", data = iris)\n",
    "    plt.subplot(2,2,2)\n",
    "    sns.boxplot(x = \"species\", y = \"sepal_width\", data = iris)\n",
    "    plt.subplot(2,2,3)\n",
    "    sns.boxplot(x = \"species\", y = \"petal_length\", data = iris)\n",
    "    plt.subplot(2,2,4)\n",
    "    sns.boxplot(x = \"species\", y = \"petal_width\", data = iris)\n",
    "    st.pyplot(plt)\n",
    "    \n",
    "    \n",
    "    st.markdown('<p style=\"background-color: #8a4baf; color: white; font-size: 20px; padding: 10px; border-radius: 5px; text-align: left; box-shadow: 0px 2px 3px rgba(0, 0, 0, 0.1);\">Correlation Table</p>', unsafe_allow_html=True)\n",
    "    plt.figure(figsize = (10,11))\n",
    "    sns.heatmap(iris.corr(), annot = True, cmap = \"coolwarm\")\n",
    "    st.pyplot(plt)\n",
    "    \n",
    "elif selected_tab == \"Prediction\":\n",
    "    st.markdown('<p style=\"background-color: #8a4baf; color: white; font-size: 20px; padding: 20px; border-radius: 10px; text-align: center; box-shadow: 0px 4px 6px rgba(0, 0, 0, 0.1);\">IRIS Flower Classification using TensorFlow</p>', unsafe_allow_html=True)\n",
    "    st.image(\"https://miro.medium.com/v2/resize:fit:1200/1*S2GII1ul0JjbZ0YaFvDByw.jpeg\", use_column_width=True)\n",
    "\n",
    "    # Metni ortala\n",
    "    st.markdown('<p style=\"text-align: center; font-size: 20px;\">This app predicts the <strong>Iris flower</strong> type!</p>', unsafe_allow_html=True)\n",
    "     \n",
    "    model_option = st.sidebar.selectbox(\"Select Model\", [\"XGBoost\", \"Artificial Neural Network\"])\n",
    "    # Tahmin sekmesi içeriği\n",
    "    st.sidebar.header('User Input Parameters for Prediction')\n",
    "    \n",
    "    def user_input_features():\n",
    "        sepal_length = st.sidebar.slider('Sepal length', 4.3, 7.9, 5.4, step=0.1)\n",
    "        sepal_width = st.sidebar.slider('Sepal width', 2.0, 4.4, 3.4)\n",
    "        petal_length = st.sidebar.slider('Petal length', 1.0, 6.9, 1.3)\n",
    "        petal_width = st.sidebar.slider('Petal width', 0.1, 2.5, 0.2)\n",
    "        data = {'sepal_length': sepal_length,\n",
    "                'sepal_width': sepal_width,\n",
    "                'petal_length': petal_length,\n",
    "                'petal_width': petal_width}\n",
    "        features = pd.DataFrame(data, index=[0])\n",
    "        return features\n",
    "    \n",
    "    df = user_input_features()\n",
    "\n",
    "    # Load local Iris dataset\n",
    "    #iris = pd.read_csv(\"iris.csv\")\n",
    "\n",
    "    final_xgboost = pickle.load(open(\"final_model_xgboost_iris\", \"rb\"))\n",
    "    final_ann = load_model('final_model_ANN_iris.h5')\n",
    "    scaler_iris = pickle.load(open(\"scaler_iris\", \"rb\"))\n",
    "\n",
    "    st.markdown('<p style=\"background-color: #8a4baf; color: white; font-size: 20px; padding: 10px; border-radius: 5px; text-align: left; box-shadow: 0px 2px 3px rgba(0, 0, 0, 0.1);\">User Input parameters</p>', unsafe_allow_html=True)\n",
    "    st.dataframe(df.style.format(\"{:.2f}\"))\n",
    "\n",
    "\n",
    "    if model_option == \"XGBoost\":\n",
    "        prediction = final_xgboost.predict(df)\n",
    "        prediction_proba = final_xgboost.predict_proba(df)\n",
    "        \n",
    "    elif model_option == \"Artificial Neural Network\":     \n",
    "        df_scaled = scaler_iris.transform(df)\n",
    "        y_pred_probabilities = final_ann.predict(df.values)\n",
    "        prediction = y_pred_probabilities.argmax(axis=1)\n",
    "        prediction_proba = tf.nn.softmax(y_pred_probabilities, axis=1).numpy()\n",
    "\n",
    "    st.markdown('<p style=\"background-color: #8a4baf; color: white; font-size: 20px; padding: 10px; border-radius: 5px; text-align: left; box-shadow: 0px 2px 3px rgba(0, 0, 0, 0.1);\">Class labels and their corresponding index number</p>', unsafe_allow_html=True)\n",
    "    st.write(iris.species.value_counts().index)\n",
    "    st.markdown('<p style=\"background-color: #8a4baf; color: white; font-size: 20px; padding: 10px; border-radius: 5px; text-align: left; box-shadow: 0px 2px 3px rgba(0, 0, 0, 0.1);\">Prediction Probability</p>', unsafe_allow_html=True)\n",
    "    st.write(prediction_proba)\n",
    "    st.markdown('<p style=\"background-color: #8a4baf; color: white; font-size: 20px; padding: 10px; border-radius: 5px; text-align: left; box-shadow: 0px 2px 3px rgba(0, 0, 0, 0.1);\">Prediction</p>', unsafe_allow_html=True)\n",
    "\n",
    "    # İki sütunlu düzen oluşturma\n",
    "    col1, col2 = st.columns([2, 1])  # İlk sütunun genişliği 2, ikincisinin genişliği 1\n",
    "\n",
    "    # Sol sütun: Yazı\n",
    "    with col1:\n",
    "        st.write(\"<p style='color:red; font-size:25px; text-align: center; margin-top: 150px;'>Prediction: {}</p>\".format(\", \".join(iris.species.value_counts().index[prediction])), unsafe_allow_html=True)\n",
    "\n",
    "    # Sağ sütun: GIF\n",
    "    with col2:\n",
    "        st.markdown('<div style=\"display: flex; justify-content: flex-end;\"><img src=\"https://media.tenor.com/VmR4yzFeI_AAAAAi/floral-fury-cuphead.gif\" alt=\"GIF\" width=\"100%\" style=\"max-width: 200px; margin-right: 150px;\"></div>', unsafe_allow_html=True)\n"
   ]
  },
  {
   "cell_type": "code",
   "execution_count": null,
   "id": "96c0849f-bc4b-4cda-b3df-c64412d7dbb8",
   "metadata": {},
   "outputs": [],
   "source": [
    "!streamlit run iris_app.py"
   ]
  },
  {
   "cell_type": "code",
   "execution_count": null,
   "id": "60feae75-4b96-4cd2-a3c9-113d18f357c5",
   "metadata": {},
   "outputs": [],
   "source": []
  }
 ],
 "metadata": {
  "kernelspec": {
   "display_name": "Python 3 (ipykernel)",
   "language": "python",
   "name": "python3"
  },
  "language_info": {
   "codemirror_mode": {
    "name": "ipython",
    "version": 3
   },
   "file_extension": ".py",
   "mimetype": "text/x-python",
   "name": "python",
   "nbconvert_exporter": "python",
   "pygments_lexer": "ipython3",
   "version": "3.9.13"
  },
  "toc": {
   "base_numbering": 1,
   "nav_menu": {},
   "number_sections": true,
   "sideBar": true,
   "skip_h1_title": false,
   "title_cell": "Table of Contents",
   "title_sidebar": "Contents",
   "toc_cell": false,
   "toc_position": {},
   "toc_section_display": true,
   "toc_window_display": true
  }
 },
 "nbformat": 4,
 "nbformat_minor": 5
}
